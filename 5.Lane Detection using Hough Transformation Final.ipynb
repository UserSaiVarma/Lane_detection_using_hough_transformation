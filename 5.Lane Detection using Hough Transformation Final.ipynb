{
 "cells": [
  {
   "cell_type": "markdown",
   "id": "dee14c5e",
   "metadata": {},
   "source": [
    "<font size=3 color='darkblue'>Lane Detection using Hough Transformation"
   ]
  },
  {
   "cell_type": "code",
   "execution_count": 58,
   "id": "12a6b7f1",
   "metadata": {},
   "outputs": [],
   "source": [
    "import cv2\n",
    "import numpy as np\n",
    "from PIL import Image\n",
    "import matplotlib.pyplot as plt\n",
    "from scipy import spatial\n",
    "import math\n",
    "import warnings\n",
    "warnings.filterwarnings(\"ignore\")"
   ]
  },
  {
   "cell_type": "markdown",
   "id": "2b3fa309",
   "metadata": {},
   "source": [
    "1. Converting to gray image"
   ]
  },
  {
   "cell_type": "code",
   "execution_count": 59,
   "id": "e43059f2",
   "metadata": {},
   "outputs": [],
   "source": [
    "def gray_image(image):\n",
    "    return cv2.cvtColor(image, cv2.COLOR_BGR2GRAY)"
   ]
  },
  {
   "cell_type": "markdown",
   "id": "8a4dc82a",
   "metadata": {},
   "source": [
    "2. Gaussian Smoothing"
   ]
  },
  {
   "cell_type": "code",
   "execution_count": 60,
   "id": "21bb9e63",
   "metadata": {},
   "outputs": [],
   "source": [
    "def gaussian_smoothing(image, filter_size=5, sigma=0):\n",
    "    return cv2.GaussianBlur(image, (filter_size, filter_size), sigma)"
   ]
  },
  {
   "cell_type": "markdown",
   "id": "422cf048",
   "metadata": {},
   "source": [
    "3. Edge detection using 'Canny'"
   ]
  },
  {
   "cell_type": "code",
   "execution_count": 61,
   "id": "5ba10911",
   "metadata": {},
   "outputs": [],
   "source": [
    "def edge_detection(image, low_threshold, high_threshold):\n",
    "    return cv2.Canny(image, low_threshold, high_threshold)"
   ]
  },
  {
   "cell_type": "markdown",
   "id": "20ba8066",
   "metadata": {},
   "source": [
    "4. Region of Interest"
   ]
  },
  {
   "cell_type": "code",
   "execution_count": 62,
   "id": "68a074cb",
   "metadata": {},
   "outputs": [],
   "source": [
    "def ROI_image(image):\n",
    "    height = image.shape[0]\n",
    "    width = image.shape[1]\n",
    "    image =  np.array(image, dtype=np.float32)\n",
    "    #polygon_coords = np.array([(0, height), (round(width/1.8), round(height/2.5)), (width, height)])\n",
    "    polygon_coords = np.array([(0, height), (0, round(height/1.25)), (round(width/2),round(height/2)),(width, height)])\n",
    "                               #(round(width/2.3),round(height/2.3)), (width, height)])\n",
    "    mask  = np.zeros((height, width))\n",
    "    masked_image = cv2.fillPoly(mask, [polygon_coords], 255)\n",
    "    masked_image = np.array(masked_image, dtype=np.float32)\n",
    "    return cv2.bitwise_and(image, masked_image)"
   ]
  },
  {
   "cell_type": "markdown",
   "id": "7f63f52a",
   "metadata": {},
   "source": [
    "5. Hough Transformation to detect lanes<br>\n",
    "https://docs.opencv.org/3.4/dd/d1a/group__imgproc__feature.html#ga8618180a5948286384e3b7ca02f6feeb"
   ]
  },
  {
   "cell_type": "code",
   "execution_count": 63,
   "id": "a3d8d68c",
   "metadata": {},
   "outputs": [],
   "source": [
    "def hough_transformation(reg_of_int_img):\n",
    "    image = cv2.convertScaleAbs(reg_of_int_img)\n",
    "    return cv2.HoughLinesP(image, 1, np.pi/180, 50, None, 0, 1000)"
   ]
  },
  {
   "cell_type": "markdown",
   "id": "e21fd3c6",
   "metadata": {},
   "source": [
    "6. Average Slope Intercept to get left and write lanes"
   ]
  },
  {
   "cell_type": "code",
   "execution_count": 64,
   "id": "3f645e8c",
   "metadata": {},
   "outputs": [],
   "source": [
    "def get_coordinates(image, parameters):\n",
    "    slope, intercept = parameters\n",
    "    if slope<0:\n",
    "        y1 = image.shape[0]\n",
    "        y2 = int(y1*(3/5))\n",
    "        x1 = np.clip(int((y1-intercept)/slope), 0, image.shape[1])\n",
    "        x2 = int((y2-intercept)/slope)\n",
    "    else:\n",
    "        y1 = image.shape[0]\n",
    "        y2 = int(y1*(3/5))\n",
    "        x1 = int((y1-intercept)/slope*0.98)\n",
    "        x2 = int((y2-intercept)/slope)\n",
    "    \n",
    "    return np.array([x1, y1, x2, y2])"
   ]
  },
  {
   "cell_type": "code",
   "execution_count": 65,
   "id": "64e21d69",
   "metadata": {},
   "outputs": [],
   "source": [
    "def average_slope_intercept(image, lines):\n",
    "    left_lines = []\n",
    "    right_lines = []\n",
    "    \n",
    "    #getting slope and intercept for each line\n",
    "    for line in lines:\n",
    "        x1, y1, x2, y2 = line[0][:]\n",
    "        params = np.polyfit((x1,x2), (y1,y2), 1)\n",
    "        slope = params[0]\n",
    "        intercept = params[1]\n",
    "        if slope<0:\n",
    "            left_lines.append((slope, intercept))\n",
    "        else:\n",
    "            right_lines.append((slope, intercept))\n",
    "    \n",
    "    #getting coordinates for left lines\n",
    "    left_line_coords = []\n",
    "    for line in left_lines:\n",
    "        if line[0]>-0.1:\n",
    "            continue\n",
    "        left_line_coords.append(get_coordinates(image, line))\n",
    "    \n",
    "    #getting coordinates for rigth lines\n",
    "    right_line_coords = []\n",
    "    for line in right_lines:\n",
    "        if line[0]<0.2:\n",
    "            continue\n",
    "        right_line_coords.append(get_coordinates(image, line))\n",
    "        \n",
    "    final_left_lines = []\n",
    "    final_right_lines = []\n",
    "    cosine_dist = []\n",
    "    #if both curves have same slope\n",
    "    if len(left_line_coords)==0 or len(right_line_coords)==0:\n",
    "        if len(left_line_coords)==0:\n",
    "            lines = right_line_coords\n",
    "        else:\n",
    "            lines = left_line_coords\n",
    "\n",
    "        if len(lines)<=2:\n",
    "            return np.array(lines)\n",
    "        \n",
    "        for line1 in lines:\n",
    "            for line2 in lines:\n",
    "                cosine_dist.append(spatial.distance.cosine(line1, line2))\n",
    "        cosine_dist = [item for item in cosine_dist if not(math.isnan(item))]\n",
    "        threshold = np.percentile(cosine_dist,80)\n",
    "        \n",
    "        for left in lines:\n",
    "            for right in lines:                    \n",
    "                dist = spatial.distance.cosine(left, right)\n",
    "\n",
    "                if dist>threshold and len(final_left_lines)==0:\n",
    "                    final_left_lines.append(list(left))\n",
    "                    final_right_lines.append(list(right))\n",
    "                    continue\n",
    "                if dist>threshold:\n",
    "                    if list(left) not in final_left_lines and list(left) not in final_right_lines:\n",
    "                        final_left_lines.append(list(left))\n",
    "                    if list(right) not in final_right_lines and list(right) not in final_right_lines:\n",
    "                        final_right_lines.append(list(right))\n",
    "\n",
    "        left_line = np.average(np.array(final_left_lines), axis=0)\n",
    "        right_line = np.average(np.array(final_right_lines), axis=0)\n",
    "        return np.array([left_line, right_line])\n",
    "    else:\n",
    "        #keeping farthest lines and removing others\n",
    "        for left in left_line_coords:\n",
    "            for right in right_line_coords:\n",
    "                cosine_dist.append(spatial.distance.cosine(left, right))\n",
    "        cosine_dist = [item for item in cosine_dist if not(math.isnan(item))]\n",
    "        threshold = np.percentile(cosine_dist,85)\n",
    "\n",
    "        for left in left_line_coords:\n",
    "            for right in right_line_coords:\n",
    "                dist = spatial.distance.cosine(left, right)\n",
    "\n",
    "                if dist>threshold and len(final_left_lines)==0:\n",
    "                    final_left_lines.append(list(left))\n",
    "                    final_right_lines.append(list(right))\n",
    "                    continue\n",
    "                if dist>threshold:\n",
    "                    if list(left) not in final_left_lines:\n",
    "                        final_left_lines.append(list(left))\n",
    "                    if list(right) not in final_right_lines:\n",
    "                        final_right_lines.append(list(right))\n",
    "\n",
    "        left_line = np.average(np.array(final_left_lines), axis=0)\n",
    "        right_line = np.average(np.array(final_right_lines), axis=0)\n",
    "\n",
    "        return np.array([left_line, right_line])"
   ]
  },
  {
   "cell_type": "markdown",
   "id": "54a4f32d",
   "metadata": {},
   "source": [
    "7. drawing line on the input image"
   ]
  },
  {
   "cell_type": "code",
   "execution_count": 72,
   "id": "76097667",
   "metadata": {},
   "outputs": [],
   "source": [
    "def draw_lane_lines(image, lines, color=[0,255,0], thickness=12):\n",
    "    line_image = np.zeros_like(image)\n",
    "    for line in lines:\n",
    "        x1, y1, x2, y2 = line\n",
    "        if line is not None:\n",
    "            cv2.line(line_image, (int(x1),int(y1)), (int(x2),int(y2)), color, thickness)\n",
    "    return cv2.addWeighted(image, 0.6, line_image, 1, 1.0)"
   ]
  },
  {
   "cell_type": "markdown",
   "id": "7f06792c",
   "metadata": {},
   "source": [
    "8. Final Function which calls all the other functions and mark the lanes"
   ]
  },
  {
   "cell_type": "code",
   "execution_count": 77,
   "id": "999102c8",
   "metadata": {},
   "outputs": [],
   "source": [
    "def detect_lane(image):\n",
    "    #converting to gray image\n",
    "    gray_img = gray_image(image)\n",
    "    \n",
    "    #gaussian smoothing\n",
    "    smoothed_img = gaussian_smoothing(gray_img)\n",
    "    \n",
    "    #edge detection\n",
    "    canny_img = edge_detection(smoothed_img, 50, 150)\n",
    "    \n",
    "    #getting region on interest\n",
    "    roi_img = ROI_image(canny_img)\n",
    "    \n",
    "    #getting line using hough transformation\n",
    "    hough_lines  = hough_transformation(roi_img)\n",
    "    \n",
    "    #generating single lines for left and right lane\n",
    "    lines = average_slope_intercept(roi_img, hough_lines)\n",
    "    threshold = spatial.distance.cosine(lines[0], lines[1])\n",
    "\n",
    "    #marking lanes on the original image\n",
    "    lane_marked = draw_lane_lines(image, lines)\n",
    "    \n",
    "    return threshold, lane_marked"
   ]
  },
  {
   "cell_type": "code",
   "execution_count": 79,
   "id": "cb733e5b",
   "metadata": {
    "scrolled": true
   },
   "outputs": [
    {
     "name": "stdout",
     "output_type": "stream",
     "text": [
      "Frames per second :  30.0 FPS\n",
      "Frame count :  390.0\n"
     ]
    }
   ],
   "source": [
    "#reading the video file\n",
    "video = cv2.VideoCapture('Lane_video.mp4')\n",
    "\n",
    "#checking fps\n",
    "fps = video.get(5)\n",
    "print('Frames per second : ', fps,'FPS')\n",
    "\n",
    "#checking total number of frames\n",
    "frame_count = video.get(7)\n",
    "print('Frame count : ', frame_count)\n",
    "\n",
    "#obtaining frame size information\n",
    "frame_width = int(video.get(3))\n",
    "frame_height = int(video.get(4))\n",
    "frame_size = (frame_width,frame_height)\n",
    "\n",
    "#writing lane marked images into a video file\n",
    "output = cv2.VideoWriter('Lane_marked_output.avi',cv2.VideoWriter_fourcc('M','J','P','G'), 20, frame_size)\n",
    "\n",
    "#loading each frame\n",
    "while(video.isOpened()):\n",
    "    ret, frame = video.read()\n",
    "    if ret == True:\n",
    "        threshold, final_image = detect_lane(frame)  \n",
    "        if 0.2<=threshold<=0.303:\n",
    "            output.write(final_image)\n",
    "            cv2.imshow(\"output\",final_image)\n",
    "            k = cv2.waitKey(20)\n",
    "            if k ==113:\n",
    "                break\n",
    "        else:\n",
    "            continue\n",
    "    else:\n",
    "        break\n",
    "\n",
    "#Releasing the video capture object and destroying all opened windows\n",
    "video.release()\n",
    "cv2.destroyAllWindows()"
   ]
  }
 ],
 "metadata": {
  "kernelspec": {
   "display_name": "Python 3",
   "language": "python",
   "name": "python3"
  },
  "language_info": {
   "codemirror_mode": {
    "name": "ipython",
    "version": 3
   },
   "file_extension": ".py",
   "mimetype": "text/x-python",
   "name": "python",
   "nbconvert_exporter": "python",
   "pygments_lexer": "ipython3",
   "version": "3.8.8"
  }
 },
 "nbformat": 4,
 "nbformat_minor": 5
}
